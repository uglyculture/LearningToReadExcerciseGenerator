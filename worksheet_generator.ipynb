{
 "cells": [
  {
   "cell_type": "code",
   "execution_count": 1,
   "metadata": {},
   "outputs": [],
   "source": [
    "from matplotlib import pyplot as plt\n",
    "import scipy.ndimage as ndimage\n",
    "import scipy.ndimage.filters as filters\n",
    "from scipy.ndimage.filters import maximum_filter, maximum_filter1d\n",
    "from scipy.spatial import Voronoi, voronoi_plot_2d\n",
    "import numpy as np\n",
    "\n",
    "from astropy.io import fits\n",
    "\n",
    "from scipy.signal import find_peaks, detrend\n",
    "from scipy.ndimage import gaussian_filter\n",
    "from scipy.optimize import minimize\n",
    "\n",
    "import glob\n",
    "import os.path\n",
    "\n",
    "import imageio\n",
    "from matplotlib.backends.backend_pdf import PdfPages\n",
    "import datetime"
   ]
  },
  {
   "cell_type": "code",
   "execution_count": 2,
   "metadata": {},
   "outputs": [],
   "source": [
    "mypath = r'd:\\temp\\olv\\kepek'"
   ]
  },
  {
   "cell_type": "code",
   "execution_count": 3,
   "metadata": {
    "scrolled": true
   },
   "outputs": [],
   "source": [
    "from os import listdir\n",
    "from os.path import isfile, join\n",
    "files = [f for f in listdir(mypath) if isfile(join(mypath, f))]"
   ]
  },
  {
   "cell_type": "code",
   "execution_count": 4,
   "metadata": {
    "scrolled": true
   },
   "outputs": [],
   "source": [
    "words = [os.path.splitext(file)[0] for file in files]"
   ]
  },
  {
   "cell_type": "markdown",
   "metadata": {},
   "source": [
    "# TODO y melleti karaktereket ne cseréljen"
   ]
  },
  {
   "cell_type": "code",
   "execution_count": 5,
   "metadata": {},
   "outputs": [],
   "source": [
    "import random \n",
    "def mess_up_word(word):\n",
    "    pairs = [letter_pair for letter_pair in mixups if letter_pair[0] in word or letter_pair[1] in word]\n",
    "    if len(pairs) > 0:\n",
    "        selected_pair = random.choice(pairs)\n",
    "        if selected_pair[0] in word and selected_pair[1] in word:\n",
    "            if random.choice(range(2)) == 0:\n",
    "                return word.replace(selected_pair[0], selected_pair[1])\n",
    "            else:\n",
    "                return word.replace(selected_pair[1], selected_pair[0])\n",
    "        if selected_pair[0] in word:\n",
    "                return word.replace(selected_pair[0], selected_pair[1])\n",
    "        else:\n",
    "            return word.replace(selected_pair[1], selected_pair[0])\n",
    "    else:\n",
    "        return word"
   ]
  },
  {
   "cell_type": "code",
   "execution_count": null,
   "metadata": {},
   "outputs": [],
   "source": []
  },
  {
   "cell_type": "code",
   "execution_count": null,
   "metadata": {},
   "outputs": [],
   "source": []
  },
  {
   "cell_type": "code",
   "execution_count": 6,
   "metadata": {},
   "outputs": [],
   "source": [
    "images = [imageio.imread(os.path.join(mypath, file)) for file in files]"
   ]
  },
  {
   "cell_type": "code",
   "execution_count": 7,
   "metadata": {},
   "outputs": [],
   "source": [
    "dst_pdf_file = r'd:\\temp\\olv\\olv_feladat_2021.06.24.pdf'"
   ]
  },
  {
   "cell_type": "code",
   "execution_count": 8,
   "metadata": {},
   "outputs": [],
   "source": [
    "mixups = [('j', 'l'),\n",
    "          ('l', 'd'),\n",
    "          ('l', 'b'),\n",
    "          ('k', 't'),\n",
    "          ('g', 'k'),\n",
    "          ('j', 'r'),\n",
    "          ('sz', 's'),\n",
    "          ('b', 'd'),\n",
    "          ('r', 'l'),\n",
    "          ('ű', 'ő'),\n",
    "          ('ü', 'ö'),\n",
    "          ('u', 'o'),\n",
    "          ('a', 'o'),\n",
    "          ('ny', 'gy'),\n",
    "          ('ty', 'gy'),\n",
    "         ]"
   ]
  },
  {
   "cell_type": "code",
   "execution_count": 9,
   "metadata": {},
   "outputs": [],
   "source": [
    "\n",
    "with PdfPages(dst_pdf_file) as pdf:\n",
    "\n",
    "    plt.rcParams['figure.figsize'] = [20, 30]\n",
    "    \n",
    "    n = 5\n",
    "    pages = 100\n",
    "        \n",
    "    for i_page in range(pages):\n",
    "        fig, axs = plt.subplots(n, 3)\n",
    "\n",
    "        for i in range(n):\n",
    "            for j in range(3):\n",
    "                axs[i, j].axis('off')  \n",
    "                axs[i, j ].axis('off')  \n",
    "\n",
    "        row = 0\n",
    "        col = 0\n",
    "        selection = list(np.random.choice(len(images), size=n, replace = False))   \n",
    "        selection_shf = list(selection)\n",
    "        np.random.shuffle(selection_shf)\n",
    "\n",
    "        current_words = [words[i] for i in selection]\n",
    "        current_images = [images[i] for i in selection_shf]\n",
    "\n",
    "        used_i = set()\n",
    "        for i in range(2):\n",
    "            dst_i = random.randrange(n)\n",
    "            src_i = random.randrange(n)\n",
    "                \n",
    "            if (src_i not in used_i) and (dst_i not in used_i):\n",
    "                if (src_i != dst_i)\n",
    "                    messed = mess_up_word( current_words[src_i] )\n",
    "                    if messed != current_words[src_i]:\n",
    "                        current_words[dst_i] = messed                \n",
    "                        used_i.add(dst_i)\n",
    "                        used_i.add(src_i)\n",
    "                    \n",
    "        for i in range(n):\n",
    "            axs[i, 0].imshow(current_images[i])\n",
    "            axs[i, 2].text(0.5,0.5, current_words[i], size=100, ha=\"center\")\n",
    "\n",
    "        pdf.savefig()  # saves the current figure into a pdf page\n",
    "        plt.close()\n",
    "\n",
    "    d = pdf.infodict()\n",
    "    d['Title'] = 'Olvasás gyakorló feladatok'\n",
    "    d['Author'] = 'Áron Horváth'\n",
    "    d['CreationDate'] = datetime.datetime.today()\n",
    "    d['ModDate'] = datetime.datetime.today()"
   ]
  },
  {
   "cell_type": "code",
   "execution_count": 10,
   "metadata": {},
   "outputs": [
    {
     "data": {
      "text/plain": [
       "'dada'"
      ]
     },
     "execution_count": 10,
     "metadata": {},
     "output_type": "execute_result"
    }
   ],
   "source": [
    "mess_up_word(words[9])"
   ]
  },
  {
   "cell_type": "code",
   "execution_count": null,
   "metadata": {},
   "outputs": [],
   "source": []
  },
  {
   "cell_type": "code",
   "execution_count": null,
   "metadata": {},
   "outputs": [],
   "source": []
  }
 ],
 "metadata": {
  "kernelspec": {
   "display_name": "Python 3",
   "language": "python",
   "name": "python3"
  },
  "language_info": {
   "codemirror_mode": {
    "name": "ipython",
    "version": 3
   },
   "file_extension": ".py",
   "mimetype": "text/x-python",
   "name": "python",
   "nbconvert_exporter": "python",
   "pygments_lexer": "ipython3",
   "version": "3.9.5"
  }
 },
 "nbformat": 4,
 "nbformat_minor": 2
}
